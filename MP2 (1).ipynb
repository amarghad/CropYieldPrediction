{
 "cells": [
  {
   "cell_type": "markdown",
   "metadata": {
    "id": "MNIkOpVFlvI1"
   },
   "source": [
    "Ecole Normale Supérieure d'Enseignement Technique - Mohammedia<br/>\n",
    "Master Systèmes Distribués et Intelligence Artificielle<br/>\n",
    "ML Project : Predictive analysis for crop yield prediction<br/>\n",
    "**Oussama Lahrache** & **Ayoub Marghad**<br/>\n",
    "Année universitaire : 2023 - 2024\n",
    "\n",
    "\n"
   ]
  },
  {
   "cell_type": "code",
   "execution_count": 1,
   "metadata": {},
   "outputs": [],
   "source": [
    "figs_out_dir = \"images/\""
   ]
  },
  {
   "cell_type": "markdown",
   "metadata": {
    "id": "s_XV5Er34uM8"
   },
   "source": [
    "# Chargement et exploration des données"
   ]
  },
  {
   "cell_type": "code",
   "execution_count": 2,
   "metadata": {
    "id": "u8AeWGm2SOoG"
   },
   "outputs": [],
   "source": [
    "import pandas as pd\n",
    "import numpy as np\n",
    "import seaborn as sns\n",
    "import matplotlib.pyplot as plt\n",
    "import joblib as jb"
   ]
  },
  {
   "cell_type": "code",
   "execution_count": 3,
   "metadata": {},
   "outputs": [],
   "source": [
    "ds = pd.read_csv(\"crop_yield.csv\").drop('Production', axis=1)"
   ]
  },
  {
   "cell_type": "code",
   "execution_count": 4,
   "metadata": {},
   "outputs": [],
   "source": [
    "ds2 = pd.read_csv(\"crop_yield.csv\")"
   ]
  },
  {
   "cell_type": "code",
   "execution_count": 5,
   "metadata": {
    "colab": {
     "base_uri": "https://localhost:8080/",
     "height": 206
    },
    "id": "Kk0BXg9671aq",
    "outputId": "7347b554-2f46-4b34-8445-036661d91e9e"
   },
   "outputs": [
    {
     "data": {
      "text/html": [
       "<div>\n",
       "<style scoped>\n",
       "    .dataframe tbody tr th:only-of-type {\n",
       "        vertical-align: middle;\n",
       "    }\n",
       "\n",
       "    .dataframe tbody tr th {\n",
       "        vertical-align: top;\n",
       "    }\n",
       "\n",
       "    .dataframe thead th {\n",
       "        text-align: right;\n",
       "    }\n",
       "</style>\n",
       "<table border=\"1\" class=\"dataframe\">\n",
       "  <thead>\n",
       "    <tr style=\"text-align: right;\">\n",
       "      <th></th>\n",
       "      <th>Crop</th>\n",
       "      <th>Crop_Year</th>\n",
       "      <th>Season</th>\n",
       "      <th>State</th>\n",
       "      <th>Area</th>\n",
       "      <th>Annual_Rainfall</th>\n",
       "      <th>Fertilizer</th>\n",
       "      <th>Pesticide</th>\n",
       "      <th>Yield</th>\n",
       "    </tr>\n",
       "  </thead>\n",
       "  <tbody>\n",
       "    <tr>\n",
       "      <th>0</th>\n",
       "      <td>Arecanut</td>\n",
       "      <td>1997</td>\n",
       "      <td>Whole Year</td>\n",
       "      <td>Assam</td>\n",
       "      <td>73814.0</td>\n",
       "      <td>2051.4</td>\n",
       "      <td>7024878.38</td>\n",
       "      <td>22882.34</td>\n",
       "      <td>0.796087</td>\n",
       "    </tr>\n",
       "    <tr>\n",
       "      <th>1</th>\n",
       "      <td>Arhar/Tur</td>\n",
       "      <td>1997</td>\n",
       "      <td>Kharif</td>\n",
       "      <td>Assam</td>\n",
       "      <td>6637.0</td>\n",
       "      <td>2051.4</td>\n",
       "      <td>631643.29</td>\n",
       "      <td>2057.47</td>\n",
       "      <td>0.710435</td>\n",
       "    </tr>\n",
       "    <tr>\n",
       "      <th>2</th>\n",
       "      <td>Castor seed</td>\n",
       "      <td>1997</td>\n",
       "      <td>Kharif</td>\n",
       "      <td>Assam</td>\n",
       "      <td>796.0</td>\n",
       "      <td>2051.4</td>\n",
       "      <td>75755.32</td>\n",
       "      <td>246.76</td>\n",
       "      <td>0.238333</td>\n",
       "    </tr>\n",
       "    <tr>\n",
       "      <th>3</th>\n",
       "      <td>Coconut</td>\n",
       "      <td>1997</td>\n",
       "      <td>Whole Year</td>\n",
       "      <td>Assam</td>\n",
       "      <td>19656.0</td>\n",
       "      <td>2051.4</td>\n",
       "      <td>1870661.52</td>\n",
       "      <td>6093.36</td>\n",
       "      <td>5238.051739</td>\n",
       "    </tr>\n",
       "    <tr>\n",
       "      <th>4</th>\n",
       "      <td>Cotton(lint)</td>\n",
       "      <td>1997</td>\n",
       "      <td>Kharif</td>\n",
       "      <td>Assam</td>\n",
       "      <td>1739.0</td>\n",
       "      <td>2051.4</td>\n",
       "      <td>165500.63</td>\n",
       "      <td>539.09</td>\n",
       "      <td>0.420909</td>\n",
       "    </tr>\n",
       "  </tbody>\n",
       "</table>\n",
       "</div>"
      ],
      "text/plain": [
       "           Crop  Crop_Year       Season  State     Area  Annual_Rainfall  \\\n",
       "0      Arecanut       1997  Whole Year   Assam  73814.0           2051.4   \n",
       "1     Arhar/Tur       1997  Kharif       Assam   6637.0           2051.4   \n",
       "2   Castor seed       1997  Kharif       Assam    796.0           2051.4   \n",
       "3      Coconut        1997  Whole Year   Assam  19656.0           2051.4   \n",
       "4  Cotton(lint)       1997  Kharif       Assam   1739.0           2051.4   \n",
       "\n",
       "   Fertilizer  Pesticide        Yield  \n",
       "0  7024878.38   22882.34     0.796087  \n",
       "1   631643.29    2057.47     0.710435  \n",
       "2    75755.32     246.76     0.238333  \n",
       "3  1870661.52    6093.36  5238.051739  \n",
       "4   165500.63     539.09     0.420909  "
      ]
     },
     "execution_count": 5,
     "metadata": {},
     "output_type": "execute_result"
    }
   ],
   "source": [
    "ds.head(5)"
   ]
  },
  {
   "cell_type": "code",
   "execution_count": 6,
   "metadata": {},
   "outputs": [
    {
     "data": {
      "text/plain": [
       "Crop                object\n",
       "Crop_Year            int64\n",
       "Season              object\n",
       "State               object\n",
       "Area               float64\n",
       "Annual_Rainfall    float64\n",
       "Fertilizer         float64\n",
       "Pesticide          float64\n",
       "Yield              float64\n",
       "dtype: object"
      ]
     },
     "execution_count": 6,
     "metadata": {},
     "output_type": "execute_result"
    }
   ],
   "source": [
    "ds.dtypes"
   ]
  },
  {
   "cell_type": "markdown",
   "metadata": {
    "id": "-V8POBVy5KV7"
   },
   "source": [
    "# Data cleaning"
   ]
  },
  {
   "cell_type": "markdown",
   "metadata": {
    "id": "JTX8-baS5S6y"
   },
   "source": [
    "## Encodage des données"
   ]
  },
  {
   "cell_type": "markdown",
   "metadata": {
    "id": "695Hn5iw5yf6"
   },
   "source": [
    "### Encodage du type du crop"
   ]
  },
  {
   "cell_type": "code",
   "execution_count": 7,
   "metadata": {
    "id": "aDvxA0w65qDv"
   },
   "outputs": [],
   "source": [
    "from sklearn.preprocessing import LabelEncoder"
   ]
  },
  {
   "cell_type": "code",
   "execution_count": 8,
   "metadata": {
    "id": "SttBzgMl58TW"
   },
   "outputs": [],
   "source": [
    "crop_encoder = LabelEncoder()\n",
    "ds.Crop = crop_encoder.fit_transform(ds.Crop)"
   ]
  },
  {
   "cell_type": "code",
   "execution_count": 9,
   "metadata": {},
   "outputs": [],
   "source": [
    "crop_classes = crop_encoder.classes_"
   ]
  },
  {
   "cell_type": "code",
   "execution_count": 10,
   "metadata": {},
   "outputs": [
    {
     "data": {
      "text/plain": [
       "{'Arecanut': 0,\n",
       " 'Arhar/Tur': 1,\n",
       " 'Bajra': 2,\n",
       " 'Banana': 3,\n",
       " 'Barley': 4,\n",
       " 'Black pepper': 5,\n",
       " 'Cardamom': 6,\n",
       " 'Cashewnut': 7,\n",
       " 'Castor seed': 8,\n",
       " 'Coconut ': 9,\n",
       " 'Coriander': 10,\n",
       " 'Cotton(lint)': 11,\n",
       " 'Cowpea(Lobia)': 12,\n",
       " 'Dry chillies': 13,\n",
       " 'Garlic': 14,\n",
       " 'Ginger': 15,\n",
       " 'Gram': 16,\n",
       " 'Groundnut': 17,\n",
       " 'Guar seed': 18,\n",
       " 'Horse-gram': 19,\n",
       " 'Jowar': 20,\n",
       " 'Jute': 21,\n",
       " 'Khesari': 22,\n",
       " 'Linseed': 23,\n",
       " 'Maize': 24,\n",
       " 'Masoor': 25,\n",
       " 'Mesta': 26,\n",
       " 'Moong(Green Gram)': 27,\n",
       " 'Moth': 28,\n",
       " 'Niger seed': 29,\n",
       " 'Oilseeds total': 30,\n",
       " 'Onion': 31,\n",
       " 'Other  Rabi pulses': 32,\n",
       " 'Other Cereals': 33,\n",
       " 'Other Kharif pulses': 34,\n",
       " 'Other Summer Pulses': 35,\n",
       " 'Peas & beans (Pulses)': 36,\n",
       " 'Potato': 37,\n",
       " 'Ragi': 38,\n",
       " 'Rapeseed &Mustard': 39,\n",
       " 'Rice': 40,\n",
       " 'Safflower': 41,\n",
       " 'Sannhamp': 42,\n",
       " 'Sesamum': 43,\n",
       " 'Small millets': 44,\n",
       " 'Soyabean': 45,\n",
       " 'Sugarcane': 46,\n",
       " 'Sunflower': 47,\n",
       " 'Sweet potato': 48,\n",
       " 'Tapioca': 49,\n",
       " 'Tobacco': 50,\n",
       " 'Turmeric': 51,\n",
       " 'Urad': 52,\n",
       " 'Wheat': 53,\n",
       " 'other oilseeds': 54}"
      ]
     },
     "execution_count": 10,
     "metadata": {},
     "output_type": "execute_result"
    }
   ],
   "source": [
    "cc_enc = crop_encoder.transform(crop_classes)\n",
    "classes_crop_dict = dict(zip(crop_classes, cc_enc))\n",
    "classes_crop_dict"
   ]
  },
  {
   "cell_type": "markdown",
   "metadata": {
    "id": "7RPPuXd_5fnJ"
   },
   "source": [
    "### Encodage du **state**"
   ]
  },
  {
   "cell_type": "code",
   "execution_count": 11,
   "metadata": {
    "id": "BzYeyukO6E2h"
   },
   "outputs": [],
   "source": [
    "state_encoder = LabelEncoder()\n",
    "ds.State = state_encoder.fit_transform(ds.State)"
   ]
  },
  {
   "cell_type": "markdown",
   "metadata": {
    "id": "j1yS9lLW5bqS"
   },
   "source": [
    "### Encodage du season"
   ]
  },
  {
   "cell_type": "code",
   "execution_count": 12,
   "metadata": {
    "id": "nX0eAfKt6MYr"
   },
   "outputs": [],
   "source": [
    "season_encoder = LabelEncoder()\n",
    "ds.Season = season_encoder.fit_transform(ds.Season)"
   ]
  },
  {
   "cell_type": "markdown",
   "metadata": {
    "id": "56I1L-9g5B7K"
   },
   "source": [
    "# Feature selection"
   ]
  },
  {
   "cell_type": "markdown",
   "metadata": {
    "id": "SPDMSw7D8bpl"
   },
   "source": [
    "## Correlation analysis"
   ]
  },
  {
   "cell_type": "code",
   "execution_count": 13,
   "metadata": {},
   "outputs": [],
   "source": [
    "corr = ds.corr()"
   ]
  },
  {
   "cell_type": "code",
   "execution_count": 14,
   "metadata": {
    "colab": {
     "base_uri": "https://localhost:8080/",
     "height": 715
    },
    "id": "LZD0iVisM1Z6",
    "outputId": "85a7376c-f69e-49f5-b4da-d779f168dea5"
   },
   "outputs": [
    {
     "data": {
      "image/png": "[encoded data removed]",
      "text/plain": [
       "<Figure size 900x700 with 2 Axes>"
      ]
     },
     "metadata": {},
     "output_type": "display_data"
    }
   ],
   "source": [
    "fig, ax = plt.subplots(figsize=(9, 7))\n",
    "sns.heatmap(corr, annot=True, cmap='Blues')\n",
    "plt.savefig(figs_out_dir +\"correlation_heatmap.png\")"
   ]
  },
  {
   "cell_type": "code",
   "execution_count": 15,
   "metadata": {},
   "outputs": [],
   "source": [
    "# Drop low correlated feature with the target\n",
    "ds.drop(['Crop_Year', 'State', 'Pesticide', 'Area'], axis=1, inplace=True)"
   ]
  },
  {
   "cell_type": "code",
   "execution_count": 16,
   "metadata": {},
   "outputs": [
    {
     "data": {
      "text/plain": [
       "<Axes: >"
      ]
     },
     "execution_count": 16,
     "metadata": {},
     "output_type": "execute_result"
    },
    {
     "data": {
      "image/png": "[encoded data removed]",
      "text/plain": [
       "<Figure size 900x700 with 2 Axes>"
      ]
     },
     "metadata": {},
     "output_type": "display_data"
    }
   ],
   "source": [
    "fig, ax = plt.subplots(figsize=(9, 7))\n",
    "sns.heatmap(ds.corr(), annot=True, cmap='Blues')"
   ]
  },
  {
   "cell_type": "code",
   "execution_count": 17,
   "metadata": {
    "id": "2oi1HKRC9VLZ"
   },
   "outputs": [],
   "source": [
    "features = ds.drop('Yield', axis=1)\n",
    "target = ds.Yield"
   ]
  },
  {
   "cell_type": "markdown",
   "metadata": {
    "id": "9UKzsjsN5ESp"
   },
   "source": [
    "## Analyse de variance"
   ]
  },
  {
   "cell_type": "code",
   "execution_count": 18,
   "metadata": {
    "id": "HJXWswPHJZeI"
   },
   "outputs": [],
   "source": [
    "variance = features.var()"
   ]
  },
  {
   "cell_type": "code",
   "execution_count": 19,
   "metadata": {},
   "outputs": [
    {
     "data": {
      "text/plain": [
       "Fertilizer         9.014744e+15\n",
       "Annual_Rainfall    6.673413e+05\n",
       "Crop               2.421403e+02\n",
       "Season             1.494539e+00\n",
       "dtype: float64"
      ]
     },
     "execution_count": 19,
     "metadata": {},
     "output_type": "execute_result"
    }
   ],
   "source": [
    "variance.sort_values(ascending=False)"
   ]
  },
  {
   "cell_type": "code",
   "execution_count": 20,
   "metadata": {
    "colab": {
     "base_uri": "https://localhost:8080/",
     "height": 465
    },
    "id": "PjW1Ye_TXkE5",
    "outputId": "2ffa796b-e1af-4404-9911-c28a7731804a"
   },
   "outputs": [
    {
     "data": {
      "text/plain": [
       "<Axes: >"
      ]
     },
     "execution_count": 20,
     "metadata": {},
     "output_type": "execute_result"
    },
    {
     "data": {
      "image/png": "[encoded data removed]",
      "text/plain": [
       "<Figure size 640x480 with 1 Axes>"
      ]
     },
     "metadata": {},
     "output_type": "display_data"
    }
   ],
   "source": [
    "variance.sort_values(inplace=True, ascending=False)\n",
    "sns.barplot(variance, orient = 'h')"
   ]
  },
  {
   "cell_type": "markdown",
   "metadata": {
    "id": "_ZoVmzNo8wOV"
   },
   "source": [
    "## Dataset split (80% train, 20% test)"
   ]
  },
  {
   "cell_type": "code",
   "execution_count": 21,
   "metadata": {
    "id": "AK_m_5GA9g27"
   },
   "outputs": [],
   "source": [
    "from sklearn.model_selection import train_test_split"
   ]
  },
  {
   "cell_type": "code",
   "execution_count": 22,
   "metadata": {
    "id": "rnQcrD9N9ldn"
   },
   "outputs": [],
   "source": [
    "X_train, X_test, Y_train, Y_test = train_test_split(features, target, random_state=42, test_size=0.2)"
   ]
  },
  {
   "cell_type": "markdown",
   "metadata": {
    "id": "7BEPoyvT84hb"
   },
   "source": [
    "## Standar Scaling"
   ]
  },
  {
   "cell_type": "code",
   "execution_count": 23,
   "metadata": {
    "id": "STx8AhC08_mA"
   },
   "outputs": [],
   "source": [
    "from sklearn.preprocessing import StandardScaler"
   ]
  },
  {
   "cell_type": "code",
   "execution_count": 24,
   "metadata": {
    "id": "GkgHXVf7o8IV"
   },
   "outputs": [],
   "source": [
    "from sklearn.preprocessing import PolynomialFeatures"
   ]
  },
  {
   "cell_type": "code",
   "execution_count": 25,
   "metadata": {
    "id": "v3NtZlWz9D4E"
   },
   "outputs": [],
   "source": [
    "scaler = StandardScaler()"
   ]
  },
  {
   "cell_type": "code",
   "execution_count": 97,
   "metadata": {
    "id": "5meW2SK59MrH"
   },
   "outputs": [],
   "source": [
    "X_train = scaler.fit_transform(X_train)"
   ]
  },
  {
   "cell_type": "code",
   "execution_count": 98,
   "metadata": {
    "id": "2cZZoHsv91nj"
   },
   "outputs": [],
   "source": [
    "X_test = scaler.transform(X_test)"
   ]
  },
  {
   "cell_type": "markdown",
   "metadata": {
    "id": "8tbNaEQa_INe"
   },
   "source": [
    "## Building models"
   ]
  },
  {
   "cell_type": "code",
   "execution_count": 28,
   "metadata": {
    "id": "Dhub7KcO988W"
   },
   "outputs": [],
   "source": [
    "from sklearn.linear_model import LinearRegression\n",
    "from sklearn.tree import DecisionTreeRegressor\n",
    "from sklearn.neighbors import KNeighborsRegressor\n",
    "from sklearn.svm import SVR\n",
    "from sklearn.ensemble import RandomForestRegressor\n",
    "from sklearn.preprocessing import PolynomialFeatures"
   ]
  },
  {
   "cell_type": "code",
   "execution_count": 29,
   "metadata": {
    "id": "fz1hJABs_Kh6"
   },
   "outputs": [],
   "source": [
    "random_forest_regressor = RandomForestRegressor()\n",
    "decision_tree_regressor = DecisionTreeRegressor()\n",
    "knn_regressor = KNeighborsRegressor(n_neighbors=1)\n",
    "svr = SVR()\n",
    "lin_reg = LinearRegression()"
   ]
  },
  {
   "cell_type": "code",
   "execution_count": 30,
   "metadata": {
    "id": "4wRTsdqAnUlt"
   },
   "outputs": [],
   "source": [
    "from sklearn.pipeline import make_pipeline\n",
    "from sklearn.model_selection import GridSearchCV"
   ]
  },
  {
   "cell_type": "code",
   "execution_count": 31,
   "metadata": {},
   "outputs": [
    {
     "data": {
      "text/html": [
       "<style>#sk-container-id-1 {color: black;}#sk-container-id-1 pre{padding: 0;}#sk-container-id-1 div.sk-toggleable {background-color: white;}#sk-container-id-1 label.sk-toggleable__label {cursor: pointer;display: block;width: 100%;margin-bottom: 0;padding: 0.3em;box-sizing: border-box;text-align: center;}#sk-container-id-1 label.sk-toggleable__label-arrow:before {content: \"▸\";float: left;margin-right: 0.25em;color: #696969;}#sk-container-id-1 label.sk-toggleable__label-arrow:hover:before {color: black;}#sk-container-id-1 div.sk-estimator:hover label.sk-toggleable__label-arrow:before {color: black;}#sk-container-id-1 div.sk-toggleable__content {max-height: 0;max-width: 0;overflow: hidden;text-align: left;background-color: #f0f8ff;}#sk-container-id-1 div.sk-toggleable__content pre {margin: 0.2em;color: black;border-radius: 0.25em;background-color: #f0f8ff;}#sk-container-id-1 input.sk-toggleable__control:checked~div.sk-toggleable__content {max-height: 200px;max-width: 100%;overflow: auto;}#sk-container-id-1 input.sk-toggleable__control:checked~label.sk-toggleable__label-arrow:before {content: \"▾\";}#sk-container-id-1 div.sk-estimator input.sk-toggleable__control:checked~label.sk-toggleable__label {background-color: #d4ebff;}#sk-container-id-1 div.sk-label input.sk-toggleable__control:checked~label.sk-toggleable__label {background-color: #d4ebff;}#sk-container-id-1 input.sk-hidden--visually {border: 0;clip: rect(1px 1px 1px 1px);clip: rect(1px, 1px, 1px, 1px);height: 1px;margin: -1px;overflow: hidden;padding: 0;position: absolute;width: 1px;}#sk-container-id-1 div.sk-estimator {font-family: monospace;background-color: #f0f8ff;border: 1px dotted black;border-radius: 0.25em;box-sizing: border-box;margin-bottom: 0.5em;}#sk-container-id-1 div.sk-estimator:hover {background-color: #d4ebff;}#sk-container-id-1 div.sk-parallel-item::after {content: \"\";width: 100%;border-bottom: 1px solid gray;flex-grow: 1;}#sk-container-id-1 div.sk-label:hover label.sk-toggleable__label {background-color: #d4ebff;}#sk-container-id-1 div.sk-serial::before {content: \"\";position: absolute;border-left: 1px solid gray;box-sizing: border-box;top: 0;bottom: 0;left: 50%;z-index: 0;}#sk-container-id-1 div.sk-serial {display: flex;flex-direction: column;align-items: center;background-color: white;padding-right: 0.2em;padding-left: 0.2em;position: relative;}#sk-container-id-1 div.sk-item {position: relative;z-index: 1;}#sk-container-id-1 div.sk-parallel {display: flex;align-items: stretch;justify-content: center;background-color: white;position: relative;}#sk-container-id-1 div.sk-item::before, #sk-container-id-1 div.sk-parallel-item::before {content: \"\";position: absolute;border-left: 1px solid gray;box-sizing: border-box;top: 0;bottom: 0;left: 50%;z-index: -1;}#sk-container-id-1 div.sk-parallel-item {display: flex;flex-direction: column;z-index: 1;position: relative;background-color: white;}#sk-container-id-1 div.sk-parallel-item:first-child::after {align-self: flex-end;width: 50%;}#sk-container-id-1 div.sk-parallel-item:last-child::after {align-self: flex-start;width: 50%;}#sk-container-id-1 div.sk-parallel-item:only-child::after {width: 0;}#sk-container-id-1 div.sk-dashed-wrapped {border: 1px dashed gray;margin: 0 0.4em 0.5em 0.4em;box-sizing: border-box;padding-bottom: 0.4em;background-color: white;}#sk-container-id-1 div.sk-label label {font-family: monospace;font-weight: bold;display: inline-block;line-height: 1.2em;}#sk-container-id-1 div.sk-label-container {text-align: center;}#sk-container-id-1 div.sk-container {/* jupyter's `normalize.less` sets `[hidden] { display: none; }` but bootstrap.min.css set `[hidden] { display: none !important; }` so we also need the `!important` here to be able to override the default hidden behavior on the sphinx rendered scikit-learn.org. See: https://github.com/scikit-learn/scikit-learn/issues/21755 */display: inline-block !important;position: relative;}#sk-container-id-1 div.sk-text-repr-fallback {display: none;}</style><div id=\"sk-container-id-1\" class=\"sk-top-container\"><div class=\"sk-text-repr-fallback\"><pre>GridSearchCV(cv=10,\n",
       "             estimator=Pipeline(steps=[(&#x27;kneighborsregressor&#x27;,\n",
       "                                        KNeighborsRegressor())]),\n",
       "             n_jobs=-1,\n",
       "             param_grid={&#x27;kneighborsregressor__n_neighbors&#x27;: range(1, 30, 2)})</pre><b>In a Jupyter environment, please rerun this cell to show the HTML representation or trust the notebook. <br />On GitHub, the HTML representation is unable to render, please try loading this page with nbviewer.org.</b></div><div class=\"sk-container\" hidden><div class=\"sk-item sk-dashed-wrapped\"><div class=\"sk-label-container\"><div class=\"sk-label sk-toggleable\"><input class=\"sk-toggleable__control sk-hidden--visually\" id=\"sk-estimator-id-1\" type=\"checkbox\" ><label for=\"sk-estimator-id-1\" class=\"sk-toggleable__label sk-toggleable__label-arrow\">GridSearchCV</label><div class=\"sk-toggleable__content\"><pre>GridSearchCV(cv=10,\n",
       "             estimator=Pipeline(steps=[(&#x27;kneighborsregressor&#x27;,\n",
       "                                        KNeighborsRegressor())]),\n",
       "             n_jobs=-1,\n",
       "             param_grid={&#x27;kneighborsregressor__n_neighbors&#x27;: range(1, 30, 2)})</pre></div></div></div><div class=\"sk-parallel\"><div class=\"sk-parallel-item\"><div class=\"sk-item\"><div class=\"sk-label-container\"><div class=\"sk-label sk-toggleable\"><input class=\"sk-toggleable__control sk-hidden--visually\" id=\"sk-estimator-id-2\" type=\"checkbox\" ><label for=\"sk-estimator-id-2\" class=\"sk-toggleable__label sk-toggleable__label-arrow\">estimator: Pipeline</label><div class=\"sk-toggleable__content\"><pre>Pipeline(steps=[(&#x27;kneighborsregressor&#x27;, KNeighborsRegressor())])</pre></div></div></div><div class=\"sk-serial\"><div class=\"sk-item\"><div class=\"sk-serial\"><div class=\"sk-item\"><div class=\"sk-estimator sk-toggleable\"><input class=\"sk-toggleable__control sk-hidden--visually\" id=\"sk-estimator-id-3\" type=\"checkbox\" ><label for=\"sk-estimator-id-3\" class=\"sk-toggleable__label sk-toggleable__label-arrow\">KNeighborsRegressor</label><div class=\"sk-toggleable__content\"><pre>KNeighborsRegressor()</pre></div></div></div></div></div></div></div></div></div></div></div></div>"
      ],
      "text/plain": [
       "GridSearchCV(cv=10,\n",
       "             estimator=Pipeline(steps=[('kneighborsregressor',\n",
       "                                        KNeighborsRegressor())]),\n",
       "             n_jobs=-1,\n",
       "             param_grid={'kneighborsregressor__n_neighbors': range(1, 30, 2)})"
      ]
     },
     "execution_count": 31,
     "metadata": {},
     "output_type": "execute_result"
    }
   ],
   "source": [
    "pipe_knnr = make_pipeline(KNeighborsRegressor())\n",
    "grid_knnr = GridSearchCV(pipe_knnr, param_grid={\n",
    "    'kneighborsregressor__n_neighbors': range(1, 30, 2)\n",
    "}, cv=10, n_jobs=-1)\n",
    "grid_knnr.fit(X_train, Y_train)"
   ]
  },
  {
   "cell_type": "code",
   "execution_count": 32,
   "metadata": {},
   "outputs": [
    {
     "data": {
      "text/plain": [
       "{'kneighborsregressor__n_neighbors': 1}"
      ]
     },
     "execution_count": 32,
     "metadata": {},
     "output_type": "execute_result"
    }
   ],
   "source": [
    "grid_knnr.best_params_"
   ]
  },
  {
   "cell_type": "code",
   "execution_count": 33,
   "metadata": {
    "colab": {
     "base_uri": "https://localhost:8080/",
     "height": 75
    },
    "id": "BWtlGuGf_G9x",
    "outputId": "f51bae4d-ee85-4609-dddc-4a5754a50784"
   },
   "outputs": [
    {
     "data": {
      "text/html": [
       "<style>#sk-container-id-2 {color: black;}#sk-container-id-2 pre{padding: 0;}#sk-container-id-2 div.sk-toggleable {background-color: white;}#sk-container-id-2 label.sk-toggleable__label {cursor: pointer;display: block;width: 100%;margin-bottom: 0;padding: 0.3em;box-sizing: border-box;text-align: center;}#sk-container-id-2 label.sk-toggleable__label-arrow:before {content: \"▸\";float: left;margin-right: 0.25em;color: #696969;}#sk-container-id-2 label.sk-toggleable__label-arrow:hover:before {color: black;}#sk-container-id-2 div.sk-estimator:hover label.sk-toggleable__label-arrow:before {color: black;}#sk-container-id-2 div.sk-toggleable__content {max-height: 0;max-width: 0;overflow: hidden;text-align: left;background-color: #f0f8ff;}#sk-container-id-2 div.sk-toggleable__content pre {margin: 0.2em;color: black;border-radius: 0.25em;background-color: #f0f8ff;}#sk-container-id-2 input.sk-toggleable__control:checked~div.sk-toggleable__content {max-height: 200px;max-width: 100%;overflow: auto;}#sk-container-id-2 input.sk-toggleable__control:checked~label.sk-toggleable__label-arrow:before {content: \"▾\";}#sk-container-id-2 div.sk-estimator input.sk-toggleable__control:checked~label.sk-toggleable__label {background-color: #d4ebff;}#sk-container-id-2 div.sk-label input.sk-toggleable__control:checked~label.sk-toggleable__label {background-color: #d4ebff;}#sk-container-id-2 input.sk-hidden--visually {border: 0;clip: rect(1px 1px 1px 1px);clip: rect(1px, 1px, 1px, 1px);height: 1px;margin: -1px;overflow: hidden;padding: 0;position: absolute;width: 1px;}#sk-container-id-2 div.sk-estimator {font-family: monospace;background-color: #f0f8ff;border: 1px dotted black;border-radius: 0.25em;box-sizing: border-box;margin-bottom: 0.5em;}#sk-container-id-2 div.sk-estimator:hover {background-color: #d4ebff;}#sk-container-id-2 div.sk-parallel-item::after {content: \"\";width: 100%;border-bottom: 1px solid gray;flex-grow: 1;}#sk-container-id-2 div.sk-label:hover label.sk-toggleable__label {background-color: #d4ebff;}#sk-container-id-2 div.sk-serial::before {content: \"\";position: absolute;border-left: 1px solid gray;box-sizing: border-box;top: 0;bottom: 0;left: 50%;z-index: 0;}#sk-container-id-2 div.sk-serial {display: flex;flex-direction: column;align-items: center;background-color: white;padding-right: 0.2em;padding-left: 0.2em;position: relative;}#sk-container-id-2 div.sk-item {position: relative;z-index: 1;}#sk-container-id-2 div.sk-parallel {display: flex;align-items: stretch;justify-content: center;background-color: white;position: relative;}#sk-container-id-2 div.sk-item::before, #sk-container-id-2 div.sk-parallel-item::before {content: \"\";position: absolute;border-left: 1px solid gray;box-sizing: border-box;top: 0;bottom: 0;left: 50%;z-index: -1;}#sk-container-id-2 div.sk-parallel-item {display: flex;flex-direction: column;z-index: 1;position: relative;background-color: white;}#sk-container-id-2 div.sk-parallel-item:first-child::after {align-self: flex-end;width: 50%;}#sk-container-id-2 div.sk-parallel-item:last-child::after {align-self: flex-start;width: 50%;}#sk-container-id-2 div.sk-parallel-item:only-child::after {width: 0;}#sk-container-id-2 div.sk-dashed-wrapped {border: 1px dashed gray;margin: 0 0.4em 0.5em 0.4em;box-sizing: border-box;padding-bottom: 0.4em;background-color: white;}#sk-container-id-2 div.sk-label label {font-family: monospace;font-weight: bold;display: inline-block;line-height: 1.2em;}#sk-container-id-2 div.sk-label-container {text-align: center;}#sk-container-id-2 div.sk-container {/* jupyter's `normalize.less` sets `[hidden] { display: none; }` but bootstrap.min.css set `[hidden] { display: none !important; }` so we also need the `!important` here to be able to override the default hidden behavior on the sphinx rendered scikit-learn.org. See: https://github.com/scikit-learn/scikit-learn/issues/21755 */display: inline-block !important;position: relative;}#sk-container-id-2 div.sk-text-repr-fallback {display: none;}</style><div id=\"sk-container-id-2\" class=\"sk-top-container\"><div class=\"sk-text-repr-fallback\"><pre>LinearRegression()</pre><b>In a Jupyter environment, please rerun this cell to show the HTML representation or trust the notebook. <br />On GitHub, the HTML representation is unable to render, please try loading this page with nbviewer.org.</b></div><div class=\"sk-container\" hidden><div class=\"sk-item\"><div class=\"sk-estimator sk-toggleable\"><input class=\"sk-toggleable__control sk-hidden--visually\" id=\"sk-estimator-id-4\" type=\"checkbox\" checked><label for=\"sk-estimator-id-4\" class=\"sk-toggleable__label sk-toggleable__label-arrow\">LinearRegression</label><div class=\"sk-toggleable__content\"><pre>LinearRegression()</pre></div></div></div></div></div>"
      ],
      "text/plain": [
       "LinearRegression()"
      ]
     },
     "execution_count": 33,
     "metadata": {},
     "output_type": "execute_result"
    }
   ],
   "source": [
    "random_forest_regressor.fit(X_train, Y_train)\n",
    "decision_tree_regressor.fit(X_train, Y_train)\n",
    "knn_regressor.fit(X_train, Y_train)\n",
    "lin_reg.fit(X_train, Y_train)"
   ]
  },
  {
   "cell_type": "code",
   "execution_count": 34,
   "metadata": {
    "colab": {
     "base_uri": "https://localhost:8080/"
    },
    "id": "3KTaQa7-AF9G",
    "outputId": "8e371d9b-17ec-4ced-b168-bcaf1172bd14"
   },
   "outputs": [
    {
     "name": "stdout",
     "output_type": "stream",
     "text": [
      "0.9492944844871273\n",
      "0.9252696374073519\n",
      "0.7377469473260869\n",
      "0.031457542493547486\n"
     ]
    }
   ],
   "source": [
    "print(random_forest_regressor.score(X_test, Y_test))\n",
    "print(decision_tree_regressor.score(X_test, Y_test))\n",
    "print(knn_regressor.score(X_test, Y_test))\n",
    "print(lin_reg.score(X_test, Y_test))"
   ]
  },
  {
   "cell_type": "code",
   "execution_count": 35,
   "metadata": {},
   "outputs": [],
   "source": [
    "rfr_fi = pd.Series(random_forest_regressor.feature_importances_, index=features.columns).sort_values(ascending=False)"
   ]
  },
  {
   "cell_type": "code",
   "execution_count": 36,
   "metadata": {},
   "outputs": [
    {
     "data": {
      "image/png": "[encoded data removed]",
      "text/plain": [
       "<Figure size 640x480 with 1 Axes>"
      ]
     },
     "metadata": {},
     "output_type": "display_data"
    }
   ],
   "source": [
    "sns.barplot(rfr_fi)\n",
    "plt.savefig(figs_out_dir + \"random_forest_feature_importance.png\")"
   ]
  },
  {
   "cell_type": "code",
   "execution_count": 37,
   "metadata": {},
   "outputs": [],
   "source": [
    "dtr_fi = pd.Series(decision_tree_regressor.feature_importances_, index=features.columns).sort_values(ascending=False)"
   ]
  },
  {
   "cell_type": "code",
   "execution_count": 38,
   "metadata": {},
   "outputs": [
    {
     "data": {
      "text/plain": [
       "<Axes: >"
      ]
     },
     "execution_count": 38,
     "metadata": {},
     "output_type": "execute_result"
    },
    {
     "data": {
      "image/png": "[encoded data removed]",
      "text/plain": [
       "<Figure size 640x480 with 1 Axes>"
      ]
     },
     "metadata": {},
     "output_type": "display_data"
    }
   ],
   "source": [
    "sns.barplot(dtr_fi, orient='h')"
   ]
  },
  {
   "cell_type": "markdown",
   "metadata": {},
   "source": [
    "### RFE"
   ]
  },
  {
   "cell_type": "code",
   "execution_count": 39,
   "metadata": {
    "id": "g2ls9j_sATNa"
   },
   "outputs": [],
   "source": [
    "from sklearn.feature_selection import RFE"
   ]
  },
  {
   "cell_type": "code",
   "execution_count": 40,
   "metadata": {
    "id": "HlahcOIeBEzc"
   },
   "outputs": [],
   "source": [
    "rfe_dtr = RFE(estimator=decision_tree_regressor, step=1)\n",
    "rfe_rfr = RFE(estimator=random_forest_regressor, step=1)"
   ]
  },
  {
   "cell_type": "code",
   "execution_count": 41,
   "metadata": {
    "id": "Fzn6upImnVzX"
   },
   "outputs": [],
   "source": [
    "pipe = make_pipeline(rfe_dtr, rfe_rfr)\n",
    "grid = GridSearchCV(pipe, param_grid={\n",
    "    'rfe-1__n_features_to_select': range(1, X_train.shape[1] + 1),\n",
    "    'rfe-2__n_features_to_select': range(1, X_train.shape[1] + 1)\n",
    "}, cv=10, n_jobs=-1)"
   ]
  },
  {
   "cell_type": "code",
   "execution_count": 42,
   "metadata": {
    "colab": {
     "background_save": true
    },
    "id": "9QdtBBo1nuqP",
    "outputId": "7bd3b70b-7cc0-4e88-ebf0-706485aee23c"
   },
   "outputs": [
    {
     "name": "stderr",
     "output_type": "stream",
     "text": [
      "c:\\Users\\Oussama\\anaconda3\\Lib\\site-packages\\sklearn\\model_selection\\_validation.py:425: FitFailedWarning: \n",
      "40 fits failed out of a total of 160.\n",
      "The score on these train-test partitions for these parameters will be set to nan.\n",
      "If these failures are not expected, you can try to debug them by setting error_score='raise'.\n",
      "\n",
      "Below are more details about the failures:\n",
      "--------------------------------------------------------------------------------\n",
      "4 fits failed with the following error:\n",
      "Traceback (most recent call last):\n",
      "  File \"c:\\Users\\Oussama\\anaconda3\\Lib\\site-packages\\sklearn\\model_selection\\_validation.py\", line 732, in _fit_and_score\n",
      "    estimator.fit(X_train, y_train, **fit_params)\n",
      "  File \"c:\\Users\\Oussama\\anaconda3\\Lib\\site-packages\\sklearn\\base.py\", line 1151, in wrapper\n",
      "    return fit_method(estimator, *args, **kwargs)\n",
      "           ^^^^^^^^^^^^^^^^^^^^^^^^^^^^^^^^^^^^^^\n",
      "  File \"c:\\Users\\Oussama\\anaconda3\\Lib\\site-packages\\sklearn\\pipeline.py\", line 420, in fit\n",
      "    self._final_estimator.fit(Xt, y, **fit_params_last_step)\n",
      "  File \"c:\\Users\\Oussama\\anaconda3\\Lib\\site-packages\\sklearn\\base.py\", line 1151, in wrapper\n",
      "    return fit_method(estimator, *args, **kwargs)\n",
      "           ^^^^^^^^^^^^^^^^^^^^^^^^^^^^^^^^^^^^^^\n",
      "  File \"c:\\Users\\Oussama\\anaconda3\\Lib\\site-packages\\sklearn\\feature_selection\\_rfe.py\", line 249, in fit\n",
      "    return self._fit(X, y, **fit_params)\n",
      "           ^^^^^^^^^^^^^^^^^^^^^^^^^^^^^\n",
      "  File \"c:\\Users\\Oussama\\anaconda3\\Lib\\site-packages\\sklearn\\feature_selection\\_rfe.py\", line 258, in _fit\n",
      "    X, y = self._validate_data(\n",
      "           ^^^^^^^^^^^^^^^^^^^^\n",
      "  File \"c:\\Users\\Oussama\\anaconda3\\Lib\\site-packages\\sklearn\\base.py\", line 621, in _validate_data\n",
      "    X, y = check_X_y(X, y, **check_params)\n",
      "           ^^^^^^^^^^^^^^^^^^^^^^^^^^^^^^^\n",
      "  File \"c:\\Users\\Oussama\\anaconda3\\Lib\\site-packages\\sklearn\\utils\\validation.py\", line 1147, in check_X_y\n",
      "    X = check_array(\n",
      "        ^^^^^^^^^^^^\n",
      "  File \"c:\\Users\\Oussama\\anaconda3\\Lib\\site-packages\\sklearn\\utils\\validation.py\", line 978, in check_array\n",
      "    raise ValueError(\n",
      "ValueError: Found array with 1 feature(s) (shape=(14175, 1)) while a minimum of 2 is required by RFE.\n",
      "\n",
      "--------------------------------------------------------------------------------\n",
      "36 fits failed with the following error:\n",
      "Traceback (most recent call last):\n",
      "  File \"c:\\Users\\Oussama\\anaconda3\\Lib\\site-packages\\sklearn\\model_selection\\_validation.py\", line 732, in _fit_and_score\n",
      "    estimator.fit(X_train, y_train, **fit_params)\n",
      "  File \"c:\\Users\\Oussama\\anaconda3\\Lib\\site-packages\\sklearn\\base.py\", line 1151, in wrapper\n",
      "    return fit_method(estimator, *args, **kwargs)\n",
      "           ^^^^^^^^^^^^^^^^^^^^^^^^^^^^^^^^^^^^^^\n",
      "  File \"c:\\Users\\Oussama\\anaconda3\\Lib\\site-packages\\sklearn\\pipeline.py\", line 420, in fit\n",
      "    self._final_estimator.fit(Xt, y, **fit_params_last_step)\n",
      "  File \"c:\\Users\\Oussama\\anaconda3\\Lib\\site-packages\\sklearn\\base.py\", line 1151, in wrapper\n",
      "    return fit_method(estimator, *args, **kwargs)\n",
      "           ^^^^^^^^^^^^^^^^^^^^^^^^^^^^^^^^^^^^^^\n",
      "  File \"c:\\Users\\Oussama\\anaconda3\\Lib\\site-packages\\sklearn\\feature_selection\\_rfe.py\", line 249, in fit\n",
      "    return self._fit(X, y, **fit_params)\n",
      "           ^^^^^^^^^^^^^^^^^^^^^^^^^^^^^\n",
      "  File \"c:\\Users\\Oussama\\anaconda3\\Lib\\site-packages\\sklearn\\feature_selection\\_rfe.py\", line 258, in _fit\n",
      "    X, y = self._validate_data(\n",
      "           ^^^^^^^^^^^^^^^^^^^^\n",
      "  File \"c:\\Users\\Oussama\\anaconda3\\Lib\\site-packages\\sklearn\\base.py\", line 621, in _validate_data\n",
      "    X, y = check_X_y(X, y, **check_params)\n",
      "           ^^^^^^^^^^^^^^^^^^^^^^^^^^^^^^^\n",
      "  File \"c:\\Users\\Oussama\\anaconda3\\Lib\\site-packages\\sklearn\\utils\\validation.py\", line 1147, in check_X_y\n",
      "    X = check_array(\n",
      "        ^^^^^^^^^^^^\n",
      "  File \"c:\\Users\\Oussama\\anaconda3\\Lib\\site-packages\\sklearn\\utils\\validation.py\", line 978, in check_array\n",
      "    raise ValueError(\n",
      "ValueError: Found array with 1 feature(s) (shape=(14176, 1)) while a minimum of 2 is required by RFE.\n",
      "\n",
      "  warnings.warn(some_fits_failed_message, FitFailedWarning)\n",
      "c:\\Users\\Oussama\\anaconda3\\Lib\\site-packages\\sklearn\\model_selection\\_search.py:976: UserWarning: One or more of the test scores are non-finite: [       nan        nan        nan        nan 0.85242128 0.85570139\n",
      " 0.8586756  0.85664172 0.85277366 0.85555486 0.9031489  0.90131731\n",
      " 0.85285321 0.8570658  0.90135423 0.90405325]\n",
      "  warnings.warn(\n"
     ]
    },
    {
     "data": {
      "text/html": [
       "<style>#sk-container-id-3 {color: black;}#sk-container-id-3 pre{padding: 0;}#sk-container-id-3 div.sk-toggleable {background-color: white;}#sk-container-id-3 label.sk-toggleable__label {cursor: pointer;display: block;width: 100%;margin-bottom: 0;padding: 0.3em;box-sizing: border-box;text-align: center;}#sk-container-id-3 label.sk-toggleable__label-arrow:before {content: \"▸\";float: left;margin-right: 0.25em;color: #696969;}#sk-container-id-3 label.sk-toggleable__label-arrow:hover:before {color: black;}#sk-container-id-3 div.sk-estimator:hover label.sk-toggleable__label-arrow:before {color: black;}#sk-container-id-3 div.sk-toggleable__content {max-height: 0;max-width: 0;overflow: hidden;text-align: left;background-color: #f0f8ff;}#sk-container-id-3 div.sk-toggleable__content pre {margin: 0.2em;color: black;border-radius: 0.25em;background-color: #f0f8ff;}#sk-container-id-3 input.sk-toggleable__control:checked~div.sk-toggleable__content {max-height: 200px;max-width: 100%;overflow: auto;}#sk-container-id-3 input.sk-toggleable__control:checked~label.sk-toggleable__label-arrow:before {content: \"▾\";}#sk-container-id-3 div.sk-estimator input.sk-toggleable__control:checked~label.sk-toggleable__label {background-color: #d4ebff;}#sk-container-id-3 div.sk-label input.sk-toggleable__control:checked~label.sk-toggleable__label {background-color: #d4ebff;}#sk-container-id-3 input.sk-hidden--visually {border: 0;clip: rect(1px 1px 1px 1px);clip: rect(1px, 1px, 1px, 1px);height: 1px;margin: -1px;overflow: hidden;padding: 0;position: absolute;width: 1px;}#sk-container-id-3 div.sk-estimator {font-family: monospace;background-color: #f0f8ff;border: 1px dotted black;border-radius: 0.25em;box-sizing: border-box;margin-bottom: 0.5em;}#sk-container-id-3 div.sk-estimator:hover {background-color: #d4ebff;}#sk-container-id-3 div.sk-parallel-item::after {content: \"\";width: 100%;border-bottom: 1px solid gray;flex-grow: 1;}#sk-container-id-3 div.sk-label:hover label.sk-toggleable__label {background-color: #d4ebff;}#sk-container-id-3 div.sk-serial::before {content: \"\";position: absolute;border-left: 1px solid gray;box-sizing: border-box;top: 0;bottom: 0;left: 50%;z-index: 0;}#sk-container-id-3 div.sk-serial {display: flex;flex-direction: column;align-items: center;background-color: white;padding-right: 0.2em;padding-left: 0.2em;position: relative;}#sk-container-id-3 div.sk-item {position: relative;z-index: 1;}#sk-container-id-3 div.sk-parallel {display: flex;align-items: stretch;justify-content: center;background-color: white;position: relative;}#sk-container-id-3 div.sk-item::before, #sk-container-id-3 div.sk-parallel-item::before {content: \"\";position: absolute;border-left: 1px solid gray;box-sizing: border-box;top: 0;bottom: 0;left: 50%;z-index: -1;}#sk-container-id-3 div.sk-parallel-item {display: flex;flex-direction: column;z-index: 1;position: relative;background-color: white;}#sk-container-id-3 div.sk-parallel-item:first-child::after {align-self: flex-end;width: 50%;}#sk-container-id-3 div.sk-parallel-item:last-child::after {align-self: flex-start;width: 50%;}#sk-container-id-3 div.sk-parallel-item:only-child::after {width: 0;}#sk-container-id-3 div.sk-dashed-wrapped {border: 1px dashed gray;margin: 0 0.4em 0.5em 0.4em;box-sizing: border-box;padding-bottom: 0.4em;background-color: white;}#sk-container-id-3 div.sk-label label {font-family: monospace;font-weight: bold;display: inline-block;line-height: 1.2em;}#sk-container-id-3 div.sk-label-container {text-align: center;}#sk-container-id-3 div.sk-container {/* jupyter's `normalize.less` sets `[hidden] { display: none; }` but bootstrap.min.css set `[hidden] { display: none !important; }` so we also need the `!important` here to be able to override the default hidden behavior on the sphinx rendered scikit-learn.org. See: https://github.com/scikit-learn/scikit-learn/issues/21755 */display: inline-block !important;position: relative;}#sk-container-id-3 div.sk-text-repr-fallback {display: none;}</style><div id=\"sk-container-id-3\" class=\"sk-top-container\"><div class=\"sk-text-repr-fallback\"><pre>GridSearchCV(cv=10,\n",
       "             estimator=Pipeline(steps=[(&#x27;rfe-1&#x27;,\n",
       "                                        RFE(estimator=DecisionTreeRegressor())),\n",
       "                                       (&#x27;rfe-2&#x27;,\n",
       "                                        RFE(estimator=RandomForestRegressor()))]),\n",
       "             n_jobs=-1,\n",
       "             param_grid={&#x27;rfe-1__n_features_to_select&#x27;: range(1, 5),\n",
       "                         &#x27;rfe-2__n_features_to_select&#x27;: range(1, 5)})</pre><b>In a Jupyter environment, please rerun this cell to show the HTML representation or trust the notebook. <br />On GitHub, the HTML representation is unable to render, please try loading this page with nbviewer.org.</b></div><div class=\"sk-container\" hidden><div class=\"sk-item sk-dashed-wrapped\"><div class=\"sk-label-container\"><div class=\"sk-label sk-toggleable\"><input class=\"sk-toggleable__control sk-hidden--visually\" id=\"sk-estimator-id-5\" type=\"checkbox\" ><label for=\"sk-estimator-id-5\" class=\"sk-toggleable__label sk-toggleable__label-arrow\">GridSearchCV</label><div class=\"sk-toggleable__content\"><pre>GridSearchCV(cv=10,\n",
       "             estimator=Pipeline(steps=[(&#x27;rfe-1&#x27;,\n",
       "                                        RFE(estimator=DecisionTreeRegressor())),\n",
       "                                       (&#x27;rfe-2&#x27;,\n",
       "                                        RFE(estimator=RandomForestRegressor()))]),\n",
       "             n_jobs=-1,\n",
       "             param_grid={&#x27;rfe-1__n_features_to_select&#x27;: range(1, 5),\n",
       "                         &#x27;rfe-2__n_features_to_select&#x27;: range(1, 5)})</pre></div></div></div><div class=\"sk-parallel\"><div class=\"sk-parallel-item\"><div class=\"sk-item\"><div class=\"sk-label-container\"><div class=\"sk-label sk-toggleable\"><input class=\"sk-toggleable__control sk-hidden--visually\" id=\"sk-estimator-id-6\" type=\"checkbox\" ><label for=\"sk-estimator-id-6\" class=\"sk-toggleable__label sk-toggleable__label-arrow\">estimator: Pipeline</label><div class=\"sk-toggleable__content\"><pre>Pipeline(steps=[(&#x27;rfe-1&#x27;, RFE(estimator=DecisionTreeRegressor())),\n",
       "                (&#x27;rfe-2&#x27;, RFE(estimator=RandomForestRegressor()))])</pre></div></div></div><div class=\"sk-serial\"><div class=\"sk-item\"><div class=\"sk-serial\"><div class=\"sk-item sk-dashed-wrapped\"><div class=\"sk-label-container\"><div class=\"sk-label sk-toggleable\"><input class=\"sk-toggleable__control sk-hidden--visually\" id=\"sk-estimator-id-7\" type=\"checkbox\" ><label for=\"sk-estimator-id-7\" class=\"sk-toggleable__label sk-toggleable__label-arrow\">rfe-1: RFE</label><div class=\"sk-toggleable__content\"><pre>RFE(estimator=DecisionTreeRegressor())</pre></div></div></div><div class=\"sk-parallel\"><div class=\"sk-parallel-item\"><div class=\"sk-item\"><div class=\"sk-label-container\"><div class=\"sk-label sk-toggleable\"><input class=\"sk-toggleable__control sk-hidden--visually\" id=\"sk-estimator-id-8\" type=\"checkbox\" ><label for=\"sk-estimator-id-8\" class=\"sk-toggleable__label sk-toggleable__label-arrow\">estimator: DecisionTreeRegressor</label><div class=\"sk-toggleable__content\"><pre>DecisionTreeRegressor()</pre></div></div></div><div class=\"sk-serial\"><div class=\"sk-item\"><div class=\"sk-estimator sk-toggleable\"><input class=\"sk-toggleable__control sk-hidden--visually\" id=\"sk-estimator-id-9\" type=\"checkbox\" ><label for=\"sk-estimator-id-9\" class=\"sk-toggleable__label sk-toggleable__label-arrow\">DecisionTreeRegressor</label><div class=\"sk-toggleable__content\"><pre>DecisionTreeRegressor()</pre></div></div></div></div></div></div></div></div><div class=\"sk-item sk-dashed-wrapped\"><div class=\"sk-label-container\"><div class=\"sk-label sk-toggleable\"><input class=\"sk-toggleable__control sk-hidden--visually\" id=\"sk-estimator-id-10\" type=\"checkbox\" ><label for=\"sk-estimator-id-10\" class=\"sk-toggleable__label sk-toggleable__label-arrow\">rfe-2: RFE</label><div class=\"sk-toggleable__content\"><pre>RFE(estimator=RandomForestRegressor())</pre></div></div></div><div class=\"sk-parallel\"><div class=\"sk-parallel-item\"><div class=\"sk-item\"><div class=\"sk-label-container\"><div class=\"sk-label sk-toggleable\"><input class=\"sk-toggleable__control sk-hidden--visually\" id=\"sk-estimator-id-11\" type=\"checkbox\" ><label for=\"sk-estimator-id-11\" class=\"sk-toggleable__label sk-toggleable__label-arrow\">estimator: RandomForestRegressor</label><div class=\"sk-toggleable__content\"><pre>RandomForestRegressor()</pre></div></div></div><div class=\"sk-serial\"><div class=\"sk-item\"><div class=\"sk-estimator sk-toggleable\"><input class=\"sk-toggleable__control sk-hidden--visually\" id=\"sk-estimator-id-12\" type=\"checkbox\" ><label for=\"sk-estimator-id-12\" class=\"sk-toggleable__label sk-toggleable__label-arrow\">RandomForestRegressor</label><div class=\"sk-toggleable__content\"><pre>RandomForestRegressor()</pre></div></div></div></div></div></div></div></div></div></div></div></div></div></div></div></div></div>"
      ],
      "text/plain": [
       "GridSearchCV(cv=10,\n",
       "             estimator=Pipeline(steps=[('rfe-1',\n",
       "                                        RFE(estimator=DecisionTreeRegressor())),\n",
       "                                       ('rfe-2',\n",
       "                                        RFE(estimator=RandomForestRegressor()))]),\n",
       "             n_jobs=-1,\n",
       "             param_grid={'rfe-1__n_features_to_select': range(1, 5),\n",
       "                         'rfe-2__n_features_to_select': range(1, 5)})"
      ]
     },
     "execution_count": 42,
     "metadata": {},
     "output_type": "execute_result"
    }
   ],
   "source": [
    "grid.fit(X_train, Y_train)"
   ]
  },
  {
   "cell_type": "code",
   "execution_count": 43,
   "metadata": {
    "colab": {
     "background_save": true
    },
    "id": "uOnKttEuz0gZ",
    "outputId": "76e9e210-c448-4473-c624-abb63f85d13d"
   },
   "outputs": [
    {
     "data": {
      "text/plain": [
       "{'rfe-1__n_features_to_select': 4, 'rfe-2__n_features_to_select': 4}"
      ]
     },
     "execution_count": 43,
     "metadata": {},
     "output_type": "execute_result"
    }
   ],
   "source": [
    "grid.best_params_"
   ]
  },
  {
   "cell_type": "code",
   "execution_count": 44,
   "metadata": {
    "colab": {
     "background_save": true
    },
    "id": "qtYMOdjIKWvL",
    "outputId": "2f60d402-d31d-46d1-c025-0ac1f163a493"
   },
   "outputs": [
    {
     "data": {
      "text/plain": [
       "0.9040532498417724"
      ]
     },
     "execution_count": 44,
     "metadata": {},
     "output_type": "execute_result"
    }
   ],
   "source": [
    "grid.best_score_"
   ]
  },
  {
   "cell_type": "code",
   "execution_count": 45,
   "metadata": {},
   "outputs": [
    {
     "data": {
      "text/plain": [
       "{'mean_fit_time': array([  0.37835178,   0.49320226,   0.45301461,   0.37030299,\n",
       "         13.53345788,  13.8558342 ,  14.41699247,  14.98052397,\n",
       "         39.34303105, 366.69766409, 345.42578876,  19.2964587 ,\n",
       "         50.55946293,  54.30589499,  44.37840114,  23.98855066]),\n",
       " 'std_fit_time': array([2.88167486e-02, 1.39768036e-01, 1.08944580e-01, 2.65526751e-02,\n",
       "        1.07426237e+00, 2.24508791e-01, 3.56338422e-01, 5.17693002e-01,\n",
       "        9.54992883e-01, 3.98495282e+02, 4.01495542e+02, 1.25042416e+00,\n",
       "        1.84962888e+00, 9.99373769e-01, 3.90706243e+00, 2.00619714e+00]),\n",
       " 'mean_score_time': array([0.        , 0.        , 0.        , 0.        , 0.03397365,\n",
       "        0.09745402, 0.10129364, 0.11338532, 0.04495981, 0.11578913,\n",
       "        0.09671445, 0.09870656, 0.0331352 , 0.10419397, 0.11770959,\n",
       "        0.09377518]),\n",
       " 'std_score_time': array([0.        , 0.        , 0.        , 0.        , 0.00242461,\n",
       "        0.00809491, 0.01372326, 0.01605879, 0.00881307, 0.02240191,\n",
       "        0.03155892, 0.01502091, 0.00530346, 0.01692619, 0.02233162,\n",
       "        0.02242191]),\n",
       " 'param_rfe-1__n_features_to_select': masked_array(data=[1, 1, 1, 1, 2, 2, 2, 2, 3, 3, 3, 3, 4, 4, 4, 4],\n",
       "              mask=[False, False, False, False, False, False, False, False,\n",
       "                    False, False, False, False, False, False, False, False],\n",
       "        fill_value='?',\n",
       "             dtype=object),\n",
       " 'param_rfe-2__n_features_to_select': masked_array(data=[1, 2, 3, 4, 1, 2, 3, 4, 1, 2, 3, 4, 1, 2, 3, 4],\n",
       "              mask=[False, False, False, False, False, False, False, False,\n",
       "                    False, False, False, False, False, False, False, False],\n",
       "        fill_value='?',\n",
       "             dtype=object),\n",
       " 'params': [{'rfe-1__n_features_to_select': 1,\n",
       "   'rfe-2__n_features_to_select': 1},\n",
       "  {'rfe-1__n_features_to_select': 1, 'rfe-2__n_features_to_select': 2},\n",
       "  {'rfe-1__n_features_to_select': 1, 'rfe-2__n_features_to_select': 3},\n",
       "  {'rfe-1__n_features_to_select': 1, 'rfe-2__n_features_to_select': 4},\n",
       "  {'rfe-1__n_features_to_select': 2, 'rfe-2__n_features_to_select': 1},\n",
       "  {'rfe-1__n_features_to_select': 2, 'rfe-2__n_features_to_select': 2},\n",
       "  {'rfe-1__n_features_to_select': 2, 'rfe-2__n_features_to_select': 3},\n",
       "  {'rfe-1__n_features_to_select': 2, 'rfe-2__n_features_to_select': 4},\n",
       "  {'rfe-1__n_features_to_select': 3, 'rfe-2__n_features_to_select': 1},\n",
       "  {'rfe-1__n_features_to_select': 3, 'rfe-2__n_features_to_select': 2},\n",
       "  {'rfe-1__n_features_to_select': 3, 'rfe-2__n_features_to_select': 3},\n",
       "  {'rfe-1__n_features_to_select': 3, 'rfe-2__n_features_to_select': 4},\n",
       "  {'rfe-1__n_features_to_select': 4, 'rfe-2__n_features_to_select': 1},\n",
       "  {'rfe-1__n_features_to_select': 4, 'rfe-2__n_features_to_select': 2},\n",
       "  {'rfe-1__n_features_to_select': 4, 'rfe-2__n_features_to_select': 3},\n",
       "  {'rfe-1__n_features_to_select': 4, 'rfe-2__n_features_to_select': 4}],\n",
       " 'split0_test_score': array([       nan,        nan,        nan,        nan, 0.77221865,\n",
       "        0.59449659, 0.58472069, 0.59012755, 0.77203942, 0.58203001,\n",
       "        0.6064651 , 0.59353081, 0.77226668, 0.58553851, 0.60288272,\n",
       "        0.59995551]),\n",
       " 'split1_test_score': array([       nan,        nan,        nan,        nan, 0.89741523,\n",
       "        0.98040013, 0.97959851, 0.97940787, 0.89687956, 0.98126194,\n",
       "        0.98217564, 0.98188115, 0.89702068, 0.97631028, 0.98207135,\n",
       "        0.98304406]),\n",
       " 'split2_test_score': array([       nan,        nan,        nan,        nan, 0.88251869,\n",
       "        0.9544969 , 0.95149264, 0.9491102 , 0.882605  , 0.94964451,\n",
       "        0.93666356, 0.93287092, 0.88261064, 0.95104265, 0.92846711,\n",
       "        0.93662879]),\n",
       " 'split3_test_score': array([       nan,        nan,        nan,        nan, 0.90213438,\n",
       "        0.8589606 , 0.85463388, 0.85544799, 0.90182346, 0.85382949,\n",
       "        0.92993422, 0.92650918, 0.9019344 , 0.869412  , 0.92923323,\n",
       "        0.92668212]),\n",
       " 'split4_test_score': array([       nan,        nan,        nan,        nan, 0.85410626,\n",
       "        0.87316431, 0.88990264, 0.88856929, 0.85449386, 0.88175938,\n",
       "        0.91959024, 0.92384038, 0.85522158, 0.88800543, 0.92077263,\n",
       "        0.93124555]),\n",
       " 'split5_test_score': array([       nan,        nan,        nan,        nan, 0.86809907,\n",
       "        0.94985682, 0.94631145, 0.94198015, 0.86819589, 0.95171561,\n",
       "        0.99024492, 0.99110245, 0.86818352, 0.94496199, 0.99152358,\n",
       "        0.99161076]),\n",
       " 'split6_test_score': array([       nan,        nan,        nan,        nan, 0.79230458,\n",
       "        0.9362877 , 0.93675413, 0.93337643, 0.79219154, 0.94086401,\n",
       "        0.94787697, 0.93983191, 0.79240452, 0.93356113, 0.9526086 ,\n",
       "        0.95510598]),\n",
       " 'split7_test_score': array([       nan,        nan,        nan,        nan, 0.85219782,\n",
       "        0.7978932 , 0.83768527, 0.80553338, 0.85659081, 0.80232114,\n",
       "        0.90367673, 0.9016913 , 0.85573563, 0.80077463, 0.89503663,\n",
       "        0.89886841]),\n",
       " 'split8_test_score': array([       nan,        nan,        nan,        nan, 0.84173331,\n",
       "        0.88558577, 0.88050386, 0.8844816 , 0.84169657, 0.87750794,\n",
       "        0.96042699, 0.96310532, 0.84169006, 0.87511655, 0.96320637,\n",
       "        0.96070387]),\n",
       " 'split9_test_score': array([       nan,        nan,        nan,        nan, 0.86148481,\n",
       "        0.72587186, 0.72515288, 0.73838278, 0.86122051, 0.73461462,\n",
       "        0.85443469, 0.8588097 , 0.86146438, 0.74593486, 0.84774008,\n",
       "        0.85668744]),\n",
       " 'mean_test_score': array([       nan,        nan,        nan,        nan, 0.85242128,\n",
       "        0.85570139, 0.8586756 , 0.85664172, 0.85277366, 0.85555486,\n",
       "        0.9031489 , 0.90131731, 0.85285321, 0.8570658 , 0.90135423,\n",
       "        0.90405325]),\n",
       " 'std_test_score': array([       nan,        nan,        nan,        nan, 0.03986633,\n",
       "        0.1141507 , 0.11480496, 0.11234576, 0.03984816, 0.11602908,\n",
       "        0.1056494 , 0.10887155, 0.03980097, 0.11283153, 0.10723223,\n",
       "        0.10806481]),\n",
       " 'rank_test_score': array([13, 13, 13, 13, 12,  8,  5,  7, 11,  9,  2,  4, 10,  6,  3,  1])}"
      ]
     },
     "execution_count": 45,
     "metadata": {},
     "output_type": "execute_result"
    }
   ],
   "source": [
    "grid.cv_results_"
   ]
  },
  {
   "cell_type": "code",
   "execution_count": 46,
   "metadata": {},
   "outputs": [
    {
     "data": {
      "text/plain": [
       "{1: nan, 2: 0.8566417246277782, 3: 0.9013173098304854, 4: 0.9040532498417724}"
      ]
     },
     "execution_count": 46,
     "metadata": {},
     "output_type": "execute_result"
    }
   ],
   "source": [
    "dict(zip(grid.cv_results_.get(\"param_rfe-1__n_features_to_select\").data, grid.cv_results_.get(\"mean_test_score\")))"
   ]
  },
  {
   "cell_type": "markdown",
   "metadata": {},
   "source": [
    "## Permutation importance"
   ]
  },
  {
   "cell_type": "code",
   "execution_count": 47,
   "metadata": {},
   "outputs": [],
   "source": [
    "from sklearn.inspection import permutation_importance"
   ]
  },
  {
   "cell_type": "code",
   "execution_count": 48,
   "metadata": {},
   "outputs": [],
   "source": [
    "rfr_perm_imp = permutation_importance(\n",
    "    estimator=random_forest_regressor,\n",
    "    X=X_test,\n",
    "    y=Y_test,\n",
    "    n_repeats=100    \n",
    ")"
   ]
  },
  {
   "cell_type": "code",
   "execution_count": 49,
   "metadata": {},
   "outputs": [
    {
     "data": {
      "text/plain": [
       "Crop               1.961345\n",
       "Fertilizer         0.208096\n",
       "Annual_Rainfall    0.129559\n",
       "Season            -0.001062\n",
       "dtype: float64"
      ]
     },
     "execution_count": 49,
     "metadata": {},
     "output_type": "execute_result"
    }
   ],
   "source": [
    "pd.Series(rfr_perm_imp['importances_mean'], features.columns).sort_values(ascending=False)"
   ]
  },
  {
   "cell_type": "code",
   "execution_count": 50,
   "metadata": {},
   "outputs": [
    {
     "data": {
      "text/plain": [
       "{'importances_mean': array([ 1.96134525e+00, -1.06196750e-03,  1.29559274e-01,  2.08095687e-01]),\n",
       " 'importances_std': array([0.11466773, 0.00048774, 0.0271237 , 0.06446903]),\n",
       " 'importances': array([[ 2.02710394e+00,  1.78192511e+00,  1.80898797e+00,\n",
       "          1.79623211e+00,  2.04770428e+00,  1.95911108e+00,\n",
       "          1.99987532e+00,  1.91704039e+00,  1.79583643e+00,\n",
       "          2.09058219e+00,  2.01237277e+00,  1.84312298e+00,\n",
       "          2.02818531e+00,  2.01613728e+00,  2.15569561e+00,\n",
       "          1.94442664e+00,  1.98633482e+00,  1.88658119e+00,\n",
       "          2.00920656e+00,  2.01059102e+00,  2.03738936e+00,\n",
       "          2.13855186e+00,  1.95229900e+00,  1.99216676e+00,\n",
       "          1.79178042e+00,  1.91749391e+00,  2.03910875e+00,\n",
       "          1.92358914e+00,  1.96803087e+00,  1.95299195e+00,\n",
       "          1.80792444e+00,  1.92622034e+00,  2.05084215e+00,\n",
       "          2.00788515e+00,  2.01621035e+00,  1.80047508e+00,\n",
       "          2.08126871e+00,  1.72692528e+00,  1.91587389e+00,\n",
       "          2.06331423e+00,  1.87200808e+00,  2.10863617e+00,\n",
       "          2.04222803e+00,  2.05826349e+00,  1.90050703e+00,\n",
       "          1.91775058e+00,  1.97970271e+00,  2.21854049e+00,\n",
       "          2.07865529e+00,  1.96075434e+00,  1.85848861e+00,\n",
       "          1.81680587e+00,  1.93722416e+00,  1.88802162e+00,\n",
       "          1.94748550e+00,  2.00497564e+00,  2.08770864e+00,\n",
       "          1.91907937e+00,  1.88974424e+00,  2.12397488e+00,\n",
       "          1.94389885e+00,  1.86605283e+00,  1.94566896e+00,\n",
       "          1.86491055e+00,  1.81180545e+00,  2.06415810e+00,\n",
       "          1.94561383e+00,  2.02147768e+00,  2.15220475e+00,\n",
       "          1.90231293e+00,  2.03819834e+00,  2.20184940e+00,\n",
       "          1.96523665e+00,  1.93083916e+00,  2.27173036e+00,\n",
       "          1.85204865e+00,  2.04930002e+00,  1.91818317e+00,\n",
       "          1.88344791e+00,  1.79591031e+00,  2.07051218e+00,\n",
       "          1.77532894e+00,  1.95338405e+00,  2.14754598e+00,\n",
       "          1.92360030e+00,  1.88573332e+00,  1.78826987e+00,\n",
       "          2.03287620e+00,  1.99965052e+00,  2.02236699e+00,\n",
       "          1.96185662e+00,  1.97477597e+00,  1.95569860e+00,\n",
       "          1.55629662e+00,  2.00609071e+00,  2.12097638e+00,\n",
       "          1.98039172e+00,  1.95550293e+00,  1.80349160e+00,\n",
       "          1.95737788e+00],\n",
       "        [-1.09080483e-03, -7.19877495e-04, -4.90024062e-04,\n",
       "         -8.48283139e-05, -2.04513714e-03, -9.67285614e-04,\n",
       "         -2.73237144e-04, -1.23633625e-03, -1.38490188e-03,\n",
       "         -1.34009820e-03, -9.22284405e-04, -2.07739204e-04,\n",
       "         -1.33019287e-03, -6.61064540e-04, -7.63440363e-04,\n",
       "         -9.25753589e-04, -5.04506217e-04, -8.50652459e-04,\n",
       "         -1.56583058e-03, -2.20398000e-04, -1.01978338e-03,\n",
       "         -1.42934626e-03, -1.85384464e-03, -1.60449485e-03,\n",
       "         -1.28385270e-03, -1.51806256e-03, -4.66187078e-04,\n",
       "         -7.83774008e-04, -9.90726480e-04, -5.77550162e-04,\n",
       "         -1.74606898e-03,  1.32573460e-05, -7.17321684e-04,\n",
       "         -1.52024244e-03, -1.00358117e-03, -1.36787839e-03,\n",
       "         -1.11668746e-03, -1.02369815e-03, -1.04430242e-03,\n",
       "         -1.42244804e-03, -1.35551387e-03, -1.66316875e-03,\n",
       "         -4.08704114e-04, -5.88264692e-04, -8.25431577e-04,\n",
       "         -1.24060309e-03, -1.53308797e-03, -1.17726159e-03,\n",
       "         -7.78962004e-04, -1.91191006e-03, -1.10948975e-03,\n",
       "         -9.35248046e-04, -6.80157244e-04, -1.30461496e-03,\n",
       "         -2.11598481e-03, -1.50089213e-03, -1.37758593e-03,\n",
       "         -1.64818469e-03, -1.78167562e-03, -1.24570115e-03,\n",
       "         -1.04246354e-03, -1.45585837e-03, -6.13361878e-04,\n",
       "         -1.50692123e-03, -8.61768437e-04, -1.45502240e-03,\n",
       "         -1.76194338e-03, -1.56864538e-03, -1.30795411e-03,\n",
       "         -1.74212635e-04, -1.25766294e-03, -1.03474515e-03,\n",
       "         -7.08489430e-04, -6.09442279e-04, -2.91419931e-04,\n",
       "         -1.39986962e-03, -4.19812360e-04, -5.09133678e-04,\n",
       "         -1.49233499e-03, -1.18630207e-03, -1.46235631e-03,\n",
       "         -1.17040325e-03, -1.27520895e-03, -6.60215661e-04,\n",
       "         -5.64656931e-04, -1.25199818e-03, -1.27724480e-03,\n",
       "         -1.54832297e-03, -5.88932403e-04, -6.38641643e-04,\n",
       "         -1.53506444e-03, -1.43481043e-03, -1.57873174e-03,\n",
       "         -2.27757742e-04,  2.10835563e-04, -6.73721354e-04,\n",
       "         -7.05562915e-04, -1.62756710e-03, -1.21153289e-03,\n",
       "         -1.07406365e-03],\n",
       "        [ 1.56328804e-01,  1.29687858e-01,  1.49004464e-01,\n",
       "          1.16853976e-01,  1.40946443e-01,  1.18151392e-01,\n",
       "          1.78558741e-01,  1.72898914e-01,  1.26336170e-01,\n",
       "          1.39781571e-01,  1.17828264e-01,  1.12658493e-01,\n",
       "          1.06554055e-01,  9.25591640e-02,  1.46999454e-01,\n",
       "          1.14226860e-01,  1.07067984e-01,  9.71079155e-02,\n",
       "          1.31941317e-01,  1.18699599e-01,  1.81084709e-01,\n",
       "          9.43724884e-02,  1.01496181e-01,  1.50914783e-01,\n",
       "          1.20641045e-01,  1.05891669e-01,  1.28005780e-01,\n",
       "          1.63224788e-01,  1.27024001e-01,  1.34321029e-01,\n",
       "          1.48782419e-01,  1.81658966e-01,  1.23287920e-01,\n",
       "          1.46616718e-01,  1.06322726e-01,  1.40517282e-01,\n",
       "          1.49332473e-01,  1.18387225e-01,  1.24421491e-01,\n",
       "          1.70689938e-01,  1.29326727e-01,  1.01891956e-01,\n",
       "          1.27095576e-01,  1.62138728e-01,  1.03349001e-01,\n",
       "          9.39367233e-02,  1.57337758e-01,  1.09242570e-01,\n",
       "          1.55208523e-01,  1.54618476e-01,  1.86232726e-01,\n",
       "          7.34642593e-02,  9.94296387e-02,  1.36850131e-01,\n",
       "          1.04431429e-01,  1.03026093e-01,  1.15487861e-01,\n",
       "          1.52529375e-01,  1.21172480e-01,  1.24908097e-01,\n",
       "          1.05185100e-01,  1.47781961e-01,  1.34617648e-01,\n",
       "          1.51481217e-01,  8.75494472e-02,  1.26883125e-01,\n",
       "          1.13092345e-01,  1.69235024e-01,  1.33778792e-01,\n",
       "          1.20677661e-01,  9.74397408e-02,  1.34432354e-01,\n",
       "          1.76230323e-01,  1.15361608e-01,  9.52811328e-02,\n",
       "          1.19981825e-01,  2.26544343e-01,  1.36933466e-01,\n",
       "          1.39829232e-01,  1.67632907e-01,  1.28149427e-01,\n",
       "          1.39512588e-01,  9.84487124e-02,  1.05315794e-01,\n",
       "          6.40317649e-02,  1.49606690e-01,  1.23571468e-01,\n",
       "          8.65478595e-02,  1.39291198e-01,  1.55371964e-01,\n",
       "          1.15530973e-01,  1.01978076e-01,  1.60222977e-01,\n",
       "          1.34056576e-01,  1.11181433e-01,  1.28483340e-01,\n",
       "          1.44038941e-01,  1.50412099e-01,  9.28880925e-02,\n",
       "          1.24474980e-01],\n",
       "        [ 2.28197302e-01,  2.86436528e-01,  7.77571797e-02,\n",
       "          3.03774626e-01,  1.81481136e-01,  1.88880382e-01,\n",
       "          1.53303784e-01,  1.85051901e-01,  8.87905084e-02,\n",
       "          2.06198952e-01,  1.32146614e-01,  1.93942331e-01,\n",
       "          1.91124715e-01,  2.02444946e-01,  2.52770814e-01,\n",
       "          1.83052943e-01,  2.04459056e-01,  2.10930726e-01,\n",
       "          2.06106552e-01,  9.18926843e-02,  1.72439780e-01,\n",
       "          3.67137241e-01,  2.79263905e-01,  1.48781853e-01,\n",
       "          2.41631530e-01,  1.68217970e-01,  1.08675277e-01,\n",
       "          1.90499084e-01,  2.46776495e-01,  3.25048913e-01,\n",
       "          1.08477515e-01,  3.27491823e-01,  1.00243881e-01,\n",
       "          2.14299167e-01,  2.55737469e-01,  1.47965423e-01,\n",
       "          1.92293011e-01,  2.73370080e-01,  2.02581949e-01,\n",
       "          2.60874468e-01,  1.97906496e-01,  1.40386537e-01,\n",
       "          1.42200285e-01,  3.24007244e-01,  2.21131808e-01,\n",
       "          1.20786584e-01,  2.54430657e-01,  1.97633702e-01,\n",
       "          2.07497639e-01,  2.81782020e-01,  1.92813738e-01,\n",
       "          1.42722309e-01,  2.19991024e-01,  1.87652512e-01,\n",
       "          2.42624872e-01,  2.96944251e-01,  2.85423484e-01,\n",
       "          2.22508372e-01,  1.24627145e-01,  2.98758205e-01,\n",
       "          2.27637004e-01,  1.50514084e-01,  9.83142617e-02,\n",
       "          1.83376701e-01,  6.33069617e-02,  2.98253786e-01,\n",
       "          2.59051897e-01,  2.48241894e-01,  2.99515132e-01,\n",
       "          1.78256308e-01,  1.95671284e-01,  2.28014794e-01,\n",
       "          1.34468294e-01,  3.21925260e-01,  1.10616484e-01,\n",
       "          2.56766211e-01,  1.72351191e-01,  1.85829135e-01,\n",
       "          1.93259941e-01,  3.07649396e-01,  1.63776006e-01,\n",
       "          2.75387089e-01,  2.52249548e-01,  2.04029486e-01,\n",
       "          2.05937714e-01,  2.62670149e-01,  1.67438830e-01,\n",
       "          1.65309837e-01,  2.33391197e-01,  3.32552607e-01,\n",
       "          1.18055667e-01,  2.29296524e-01,  1.83056219e-01,\n",
       "          2.86019613e-01,  1.93089896e-01,  2.05397191e-01,\n",
       "          2.18631254e-01,  2.42582595e-01,  2.25488150e-01,\n",
       "          1.29809747e-01]])}"
      ]
     },
     "execution_count": 50,
     "metadata": {},
     "output_type": "execute_result"
    }
   ],
   "source": [
    "rfr_perm_imp"
   ]
  },
  {
   "cell_type": "code",
   "execution_count": 51,
   "metadata": {},
   "outputs": [
    {
     "data": {
      "text/plain": [
       "<Axes: >"
      ]
     },
     "execution_count": 51,
     "metadata": {},
     "output_type": "execute_result"
    },
    {
     "data": {
      "image/png": "[encoded data removed]",
      "text/plain": [
       "<Figure size 640x480 with 1 Axes>"
      ]
     },
     "metadata": {},
     "output_type": "display_data"
    }
   ],
   "source": [
    "sns.barplot(pd.Series(rfr_perm_imp['importances_mean'], features.columns).sort_values(ascending=False), orient='h', color='red')"
   ]
  },
  {
   "cell_type": "code",
   "execution_count": 52,
   "metadata": {},
   "outputs": [],
   "source": [
    "dt_perm_imp = permutation_importance(\n",
    "    estimator=decision_tree_regressor,\n",
    "    X=X_test,\n",
    "    y=Y_test,\n",
    "    n_repeats=100    \n",
    ")"
   ]
  },
  {
   "cell_type": "code",
   "execution_count": 53,
   "metadata": {},
   "outputs": [
    {
     "data": {
      "text/plain": [
       "Crop               2.139565\n",
       "Fertilizer         0.272965\n",
       "Annual_Rainfall    0.117457\n",
       "Season             0.000095\n",
       "dtype: float64"
      ]
     },
     "execution_count": 53,
     "metadata": {},
     "output_type": "execute_result"
    }
   ],
   "source": [
    "pd.Series(dt_perm_imp['importances_mean'], features.columns).sort_values(ascending=False)"
   ]
  },
  {
   "cell_type": "code",
   "execution_count": 54,
   "metadata": {},
   "outputs": [
    {
     "data": {
      "text/plain": [
       "<Axes: >"
      ]
     },
     "execution_count": 54,
     "metadata": {},
     "output_type": "execute_result"
    },
    {
     "data": {
      "image/png": "[encoded data removed]",
      "text/plain": [
       "<Figure size 640x480 with 1 Axes>"
      ]
     },
     "metadata": {},
     "output_type": "display_data"
    }
   ],
   "source": [
    "sns.barplot(pd.Series(dt_perm_imp['importances_mean'], features.columns).sort_values(ascending=False), orient='h', color='red')"
   ]
  },
  {
   "cell_type": "code",
   "execution_count": 55,
   "metadata": {},
   "outputs": [],
   "source": [
    "knn_perm_imp = permutation_importance(\n",
    "    estimator=knn_regressor,\n",
    "    X=X_test,\n",
    "    y=Y_test,\n",
    "    n_repeats=100    \n",
    ")"
   ]
  },
  {
   "cell_type": "code",
   "execution_count": 56,
   "metadata": {},
   "outputs": [
    {
     "data": {
      "text/plain": [
       "Crop               1.112207\n",
       "Season             0.825601\n",
       "Annual_Rainfall    0.578674\n",
       "Fertilizer         0.569039\n",
       "dtype: float64"
      ]
     },
     "execution_count": 56,
     "metadata": {},
     "output_type": "execute_result"
    }
   ],
   "source": [
    "pd.Series(knn_perm_imp['importances_mean'], features.columns).sort_values(ascending=False)"
   ]
  },
  {
   "cell_type": "code",
   "execution_count": 57,
   "metadata": {},
   "outputs": [
    {
     "data": {
      "text/plain": [
       "<Axes: >"
      ]
     },
     "execution_count": 57,
     "metadata": {},
     "output_type": "execute_result"
    },
    {
     "data": {
      "image/png": "[encoded data removed]",
      "text/plain": [
       "<Figure size 640x480 with 1 Axes>"
      ]
     },
     "metadata": {},
     "output_type": "display_data"
    }
   ],
   "source": [
    "sns.barplot(pd.Series(knn_perm_imp['importances_mean'], features.columns).sort_values(ascending=False), orient='h', color='red')"
   ]
  },
  {
   "cell_type": "markdown",
   "metadata": {},
   "source": [
    "# Module finale"
   ]
  },
  {
   "cell_type": "code",
   "execution_count": 134,
   "metadata": {},
   "outputs": [],
   "source": [
    "final_features = features.drop('Season', axis=1)\n",
    "scaler=StandardScaler()"
   ]
  },
  {
   "cell_type": "code",
   "execution_count": 135,
   "metadata": {},
   "outputs": [],
   "source": [
    "f_random_forest_regressor = RandomForestRegressor()\n",
    "f_decision_tree_regressor = DecisionTreeRegressor()\n"
   ]
  },
  {
   "cell_type": "code",
   "execution_count": 136,
   "metadata": {},
   "outputs": [],
   "source": [
    "f_X_train, f_X_test, f_Y_train, f_Y_test = train_test_split(final_features, target, test_size=0.25, random_state=42)\n",
    "f_X_train=scaler.fit_transform(f_X_train)\n",
    "f_X_test=scaler.transform(f_X_test)"
   ]
  },
  {
   "cell_type": "code",
   "execution_count": 137,
   "metadata": {},
   "outputs": [
    {
     "data": {
      "text/html": [
       "<style>#sk-container-id-10 {color: black;}#sk-container-id-10 pre{padding: 0;}#sk-container-id-10 div.sk-toggleable {background-color: white;}#sk-container-id-10 label.sk-toggleable__label {cursor: pointer;display: block;width: 100%;margin-bottom: 0;padding: 0.3em;box-sizing: border-box;text-align: center;}#sk-container-id-10 label.sk-toggleable__label-arrow:before {content: \"▸\";float: left;margin-right: 0.25em;color: #696969;}#sk-container-id-10 label.sk-toggleable__label-arrow:hover:before {color: black;}#sk-container-id-10 div.sk-estimator:hover label.sk-toggleable__label-arrow:before {color: black;}#sk-container-id-10 div.sk-toggleable__content {max-height: 0;max-width: 0;overflow: hidden;text-align: left;background-color: #f0f8ff;}#sk-container-id-10 div.sk-toggleable__content pre {margin: 0.2em;color: black;border-radius: 0.25em;background-color: #f0f8ff;}#sk-container-id-10 input.sk-toggleable__control:checked~div.sk-toggleable__content {max-height: 200px;max-width: 100%;overflow: auto;}#sk-container-id-10 input.sk-toggleable__control:checked~label.sk-toggleable__label-arrow:before {content: \"▾\";}#sk-container-id-10 div.sk-estimator input.sk-toggleable__control:checked~label.sk-toggleable__label {background-color: #d4ebff;}#sk-container-id-10 div.sk-label input.sk-toggleable__control:checked~label.sk-toggleable__label {background-color: #d4ebff;}#sk-container-id-10 input.sk-hidden--visually {border: 0;clip: rect(1px 1px 1px 1px);clip: rect(1px, 1px, 1px, 1px);height: 1px;margin: -1px;overflow: hidden;padding: 0;position: absolute;width: 1px;}#sk-container-id-10 div.sk-estimator {font-family: monospace;background-color: #f0f8ff;border: 1px dotted black;border-radius: 0.25em;box-sizing: border-box;margin-bottom: 0.5em;}#sk-container-id-10 div.sk-estimator:hover {background-color: #d4ebff;}#sk-container-id-10 div.sk-parallel-item::after {content: \"\";width: 100%;border-bottom: 1px solid gray;flex-grow: 1;}#sk-container-id-10 div.sk-label:hover label.sk-toggleable__label {background-color: #d4ebff;}#sk-container-id-10 div.sk-serial::before {content: \"\";position: absolute;border-left: 1px solid gray;box-sizing: border-box;top: 0;bottom: 0;left: 50%;z-index: 0;}#sk-container-id-10 div.sk-serial {display: flex;flex-direction: column;align-items: center;background-color: white;padding-right: 0.2em;padding-left: 0.2em;position: relative;}#sk-container-id-10 div.sk-item {position: relative;z-index: 1;}#sk-container-id-10 div.sk-parallel {display: flex;align-items: stretch;justify-content: center;background-color: white;position: relative;}#sk-container-id-10 div.sk-item::before, #sk-container-id-10 div.sk-parallel-item::before {content: \"\";position: absolute;border-left: 1px solid gray;box-sizing: border-box;top: 0;bottom: 0;left: 50%;z-index: -1;}#sk-container-id-10 div.sk-parallel-item {display: flex;flex-direction: column;z-index: 1;position: relative;background-color: white;}#sk-container-id-10 div.sk-parallel-item:first-child::after {align-self: flex-end;width: 50%;}#sk-container-id-10 div.sk-parallel-item:last-child::after {align-self: flex-start;width: 50%;}#sk-container-id-10 div.sk-parallel-item:only-child::after {width: 0;}#sk-container-id-10 div.sk-dashed-wrapped {border: 1px dashed gray;margin: 0 0.4em 0.5em 0.4em;box-sizing: border-box;padding-bottom: 0.4em;background-color: white;}#sk-container-id-10 div.sk-label label {font-family: monospace;font-weight: bold;display: inline-block;line-height: 1.2em;}#sk-container-id-10 div.sk-label-container {text-align: center;}#sk-container-id-10 div.sk-container {/* jupyter's `normalize.less` sets `[hidden] { display: none; }` but bootstrap.min.css set `[hidden] { display: none !important; }` so we also need the `!important` here to be able to override the default hidden behavior on the sphinx rendered scikit-learn.org. See: https://github.com/scikit-learn/scikit-learn/issues/21755 */display: inline-block !important;position: relative;}#sk-container-id-10 div.sk-text-repr-fallback {display: none;}</style><div id=\"sk-container-id-10\" class=\"sk-top-container\"><div class=\"sk-text-repr-fallback\"><pre>DecisionTreeRegressor()</pre><b>In a Jupyter environment, please rerun this cell to show the HTML representation or trust the notebook. <br />On GitHub, the HTML representation is unable to render, please try loading this page with nbviewer.org.</b></div><div class=\"sk-container\" hidden><div class=\"sk-item\"><div class=\"sk-estimator sk-toggleable\"><input class=\"sk-toggleable__control sk-hidden--visually\" id=\"sk-estimator-id-19\" type=\"checkbox\" checked><label for=\"sk-estimator-id-19\" class=\"sk-toggleable__label sk-toggleable__label-arrow\">DecisionTreeRegressor</label><div class=\"sk-toggleable__content\"><pre>DecisionTreeRegressor()</pre></div></div></div></div></div>"
      ],
      "text/plain": [
       "DecisionTreeRegressor()"
      ]
     },
     "execution_count": 137,
     "metadata": {},
     "output_type": "execute_result"
    }
   ],
   "source": [
    "f_random_forest_regressor.fit(f_X_train, f_Y_train)\n",
    "f_decision_tree_regressor.fit(f_X_train, f_Y_train)"
   ]
  },
  {
   "cell_type": "code",
   "execution_count": 138,
   "metadata": {},
   "outputs": [
    {
     "name": "stdout",
     "output_type": "stream",
     "text": [
      "0.9872168933629429\n",
      "0.9999999980489838\n"
     ]
    }
   ],
   "source": [
    "print(f_random_forest_regressor.score(f_X_train, f_Y_train))\n",
    "print(f_decision_tree_regressor.score(f_X_train, f_Y_train))"
   ]
  },
  {
   "cell_type": "code",
   "execution_count": 139,
   "metadata": {},
   "outputs": [
    {
     "name": "stdout",
     "output_type": "stream",
     "text": [
      "0.9327196639974163\n",
      "0.915294946712137\n"
     ]
    }
   ],
   "source": [
    "print(f_random_forest_regressor.score(f_X_test, f_Y_test))\n",
    "print(f_decision_tree_regressor.score(f_X_test, f_Y_test))"
   ]
  },
  {
   "cell_type": "code",
   "execution_count": 140,
   "metadata": {},
   "outputs": [
    {
     "data": {
      "text/plain": [
       "['crops.pkl']"
      ]
     },
     "execution_count": 140,
     "metadata": {},
     "output_type": "execute_result"
    }
   ],
   "source": [
    "jb.dump(f_random_forest_regressor,\"random forest.pkl\")\n",
    "jb.dump(crop_encoder,\"crops.pkl\")"
   ]
  },
  {
   "cell_type": "code",
   "execution_count": 141,
   "metadata": {},
   "outputs": [
    {
     "name": "stdout",
     "output_type": "stream",
     "text": [
      "[1.125175]\n"
     ]
    },
    {
     "name": "stderr",
     "output_type": "stream",
     "text": [
      "c:\\Users\\Oussama\\anaconda3\\Lib\\site-packages\\sklearn\\base.py:464: UserWarning: X does not have valid feature names, but StandardScaler was fitted with feature names\n",
      "  warnings.warn(\n"
     ]
    },
    {
     "data": {
      "text/plain": [
       "['scaler.pkl']"
      ]
     },
     "execution_count": 141,
     "metadata": {},
     "output_type": "execute_result"
    }
   ],
   "source": [
    "x = np.array([0,0, 0]).reshape(1, -1)\n",
    "x=scaler.transform(x)\n",
    "print(f_random_forest_regressor.predict(x))\n",
    "jb.dump(scaler,\"scaler.pkl\")"
   ]
  }
 ],
 "metadata": {
  "colab": {
   "provenance": []
  },
  "kernelspec": {
   "display_name": "Python 3 (ipykernel)",
   "language": "python",
   "name": "python3"
  },
  "language_info": {
   "codemirror_mode": {
    "name": "ipython",
    "version": 3
   },
   "file_extension": ".py",
   "mimetype": "text/x-python",
   "name": "python",
   "nbconvert_exporter": "python",
   "pygments_lexer": "ipython3",
   "version": "3.11.5"
  }
 },
 "nbformat": 4,
 "nbformat_minor": 4
}
